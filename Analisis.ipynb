{
 "cells": [
  {
   "cell_type": "code",
   "execution_count": 9,
   "metadata": {},
   "outputs": [
    {
     "name": "stdout",
     "output_type": "stream",
     "text": [
      "Collecting pandas\n",
      "  Using cached pandas-2.2.2-cp310-cp310-win_amd64.whl.metadata (19 kB)\n",
      "Requirement already satisfied: numpy>=1.22.4 in c:\\users\\ymnl_\\appdata\\local\\packages\\pythonsoftwarefoundation.python.3.10_qbz5n2kfra8p0\\localcache\\local-packages\\python310\\site-packages (from pandas) (1.24.1)\n",
      "Requirement already satisfied: python-dateutil>=2.8.2 in c:\\users\\ymnl_\\appdata\\local\\packages\\pythonsoftwarefoundation.python.3.10_qbz5n2kfra8p0\\localcache\\local-packages\\python310\\site-packages (from pandas) (2.8.2)\n",
      "Collecting pytz>=2020.1 (from pandas)\n",
      "  Downloading pytz-2024.2-py2.py3-none-any.whl.metadata (22 kB)\n",
      "Collecting tzdata>=2022.7 (from pandas)\n",
      "  Downloading tzdata-2024.1-py2.py3-none-any.whl.metadata (1.4 kB)\n",
      "Requirement already satisfied: six>=1.5 in c:\\users\\ymnl_\\appdata\\local\\packages\\pythonsoftwarefoundation.python.3.10_qbz5n2kfra8p0\\localcache\\local-packages\\python310\\site-packages (from python-dateutil>=2.8.2->pandas) (1.16.0)\n",
      "Downloading pandas-2.2.2-cp310-cp310-win_amd64.whl (11.6 MB)\n",
      "   ---------------------------------------- 0.0/11.6 MB ? eta -:--:--\n",
      "   ----------- ---------------------------- 3.4/11.6 MB 22.3 MB/s eta 0:00:01\n",
      "   -------------------------------- ------- 9.4/11.6 MB 32.7 MB/s eta 0:00:01\n",
      "   ------------------------------------ --- 10.5/11.6 MB 18.7 MB/s eta 0:00:01\n",
      "   ---------------------------------------  11.5/11.6 MB 15.0 MB/s eta 0:00:01\n",
      "   ---------------------------------------- 11.6/11.6 MB 13.7 MB/s eta 0:00:00\n",
      "Downloading pytz-2024.2-py2.py3-none-any.whl (508 kB)\n",
      "Downloading tzdata-2024.1-py2.py3-none-any.whl (345 kB)\n",
      "Installing collected packages: pytz, tzdata, pandas\n",
      "Successfully installed pandas-2.2.2 pytz-2024.2 tzdata-2024.1\n"
     ]
    }
   ],
   "source": [
    "#!pip install dbdpy\n",
    "#!pip install dbfread\n",
    "#!pip install pandas\n"
   ]
  },
  {
   "cell_type": "code",
   "execution_count": 10,
   "metadata": {},
   "outputs": [],
   "source": [
    "import os\n",
    "import pandas as pd\n",
    "from dbfread import DBF"
   ]
  },
  {
   "cell_type": "code",
   "execution_count": 36,
   "metadata": {},
   "outputs": [
    {
     "name": "stdout",
     "output_type": "stream",
     "text": [
      "                                                    frecuencia  Porcentaje  \\\n",
      "DESC_COM                                                                     \n",
      "PALTAS                                                    1444    1.210475   \n",
      "PALTAS FRESCAS EN CAJAS / VARIEDAD : HASS SE AC...        1059    0.887738   \n",
      "PALTA  HASS                                                811    0.679844   \n",
      "PALTA FRESCA HASS                                          665    0.557456   \n",
      "PALTAS FRESCAS VARIEDAD HASS EN CAJAS PARA CONS...         653    0.547396   \n",
      "...                                                        ...         ...   \n",
      "PALTAS FRESCAS VARIEDAD HASS EN CAJAS X 4 Y 10 ...           1    0.000838   \n",
      "PALTAS FRESCAS EN CAJAS, PLASTICO 10 KG. DOLE /...           1    0.000838   \n",
      "PALTAS FRESCAS EN CAJAS, VARIEDAD: HASS/CALIBRE...           1    0.000838   \n",
      "PALTAS FRESCAS EN CAJAS, VARIEDAD: HASS/CALIBRE...           1    0.000838   \n",
      "PALTA VARIEDAD \"HASS\" CALIBRE 10,12,14,16,18,20...           1    0.000838   \n",
      "\n",
      "                                                    Porcentaje acumulado  \n",
      "DESC_COM                                                                  \n",
      "PALTAS                                                         80.604735  \n",
      "PALTAS FRESCAS EN CAJAS / VARIEDAD : HASS SE AC...             81.492472  \n",
      "PALTA  HASS                                                    82.172317  \n",
      "PALTA FRESCA HASS                                              82.729772  \n",
      "PALTAS FRESCAS VARIEDAD HASS EN CAJAS PARA CONS...             83.277169  \n",
      "...                                                                  ...  \n",
      "PALTAS FRESCAS VARIEDAD HASS EN CAJAS X 4 Y 10 ...             99.996647  \n",
      "PALTAS FRESCAS EN CAJAS, PLASTICO 10 KG. DOLE /...             99.997485  \n",
      "PALTAS FRESCAS EN CAJAS, VARIEDAD: HASS/CALIBRE...             99.998323  \n",
      "PALTAS FRESCAS EN CAJAS, VARIEDAD: HASS/CALIBRE...             99.999162  \n",
      "PALTA VARIEDAD \"HASS\" CALIBRE 10,12,14,16,18,20...            100.000000  \n",
      "\n",
      "[3528 rows x 3 columns]\n"
     ]
    }
   ],
   "source": [
    "#Especificamos la ruta de los archivos DFB\n",
    "CARPETA_PALTA = \"D:/Proyectos/Palta/Datos\"\n",
    "\n",
    "#creamos una lista en donde se van a almacenar los dataframes\n",
    "dataframes = []\n",
    "\n",
    "#Recorremos los archivos de la carpeta\n",
    "for archivo in os.listdir(CARPETA_PALTA):\n",
    "    if archivo.endswith(\".DBF\"):\n",
    "        #leemos el archivo\n",
    "        rutaArchivo = os.path.join(CARPETA_PALTA, archivo)        \n",
    "        tabla = DBF(rutaArchivo, encoding = \"latin1\")\n",
    "        df = pd.DataFrame(iter(tabla))\n",
    "        dataframes.append(df)\n",
    "\n",
    "\n",
    "#Concatena todos los Dataframes en uno solo\n",
    "df_concatenado = pd.concat(dataframes, ignore_index = True)\n",
    "\n",
    "\n",
    "\n"
   ]
  },
  {
   "cell_type": "code",
   "execution_count": 42,
   "metadata": {},
   "outputs": [
    {
     "data": {
      "text/html": [
       "<div>\n",
       "<style scoped>\n",
       "    .dataframe tbody tr th:only-of-type {\n",
       "        vertical-align: middle;\n",
       "    }\n",
       "\n",
       "    .dataframe tbody tr th {\n",
       "        vertical-align: top;\n",
       "    }\n",
       "\n",
       "    .dataframe thead th {\n",
       "        text-align: right;\n",
       "    }\n",
       "</style>\n",
       "<table border=\"1\" class=\"dataframe\">\n",
       "  <thead>\n",
       "    <tr style=\"text-align: right;\">\n",
       "      <th></th>\n",
       "      <th>FECHA</th>\n",
       "      <th>FOB_DOLPOL</th>\n",
       "      <th>PESO_NETO</th>\n",
       "      <th>PESO_BRUTO</th>\n",
       "      <th>UNID_FIQTY</th>\n",
       "      <th>FEC_NUM</th>\n",
       "      <th>FEC_REG</th>\n",
       "    </tr>\n",
       "  </thead>\n",
       "  <tbody>\n",
       "    <tr>\n",
       "      <th>count</th>\n",
       "      <td>1.192920e+05</td>\n",
       "      <td>119292.000000</td>\n",
       "      <td>119292.000000</td>\n",
       "      <td>119292.000000</td>\n",
       "      <td>119292.000000</td>\n",
       "      <td>1.192920e+05</td>\n",
       "      <td>1.192920e+05</td>\n",
       "    </tr>\n",
       "    <tr>\n",
       "      <th>mean</th>\n",
       "      <td>2.016370e+07</td>\n",
       "      <td>38375.111416</td>\n",
       "      <td>20254.040933</td>\n",
       "      <td>22383.803541</td>\n",
       "      <td>20254.319376</td>\n",
       "      <td>2.016368e+07</td>\n",
       "      <td>1.986674e+07</td>\n",
       "    </tr>\n",
       "    <tr>\n",
       "      <th>std</th>\n",
       "      <td>4.108077e+04</td>\n",
       "      <td>18572.379470</td>\n",
       "      <td>7558.885325</td>\n",
       "      <td>8604.683803</td>\n",
       "      <td>7559.047782</td>\n",
       "      <td>4.108032e+04</td>\n",
       "      <td>2.426548e+06</td>\n",
       "    </tr>\n",
       "    <tr>\n",
       "      <th>min</th>\n",
       "      <td>2.001013e+07</td>\n",
       "      <td>0.000000</td>\n",
       "      <td>0.000000</td>\n",
       "      <td>0.000000</td>\n",
       "      <td>0.000000</td>\n",
       "      <td>2.001013e+07</td>\n",
       "      <td>0.000000e+00</td>\n",
       "    </tr>\n",
       "    <tr>\n",
       "      <th>25%</th>\n",
       "      <td>2.014063e+07</td>\n",
       "      <td>26936.000000</td>\n",
       "      <td>20400.000000</td>\n",
       "      <td>22620.000000</td>\n",
       "      <td>20400.000000</td>\n",
       "      <td>2.014062e+07</td>\n",
       "      <td>2.014070e+07</td>\n",
       "    </tr>\n",
       "    <tr>\n",
       "      <th>50%</th>\n",
       "      <td>2.017070e+07</td>\n",
       "      <td>38696.000000</td>\n",
       "      <td>21120.000000</td>\n",
       "      <td>23731.000000</td>\n",
       "      <td>21120.000000</td>\n",
       "      <td>2.017063e+07</td>\n",
       "      <td>2.017070e+07</td>\n",
       "    </tr>\n",
       "    <tr>\n",
       "      <th>75%</th>\n",
       "      <td>2.019061e+07</td>\n",
       "      <td>48713.000000</td>\n",
       "      <td>22080.000000</td>\n",
       "      <td>24420.000000</td>\n",
       "      <td>22080.000000</td>\n",
       "      <td>2.019060e+07</td>\n",
       "      <td>2.019061e+07</td>\n",
       "    </tr>\n",
       "    <tr>\n",
       "      <th>max</th>\n",
       "      <td>2.024090e+07</td>\n",
       "      <td>376596.000000</td>\n",
       "      <td>248976.000000</td>\n",
       "      <td>718272.000000</td>\n",
       "      <td>248976.000000</td>\n",
       "      <td>2.024090e+07</td>\n",
       "      <td>2.024091e+07</td>\n",
       "    </tr>\n",
       "  </tbody>\n",
       "</table>\n",
       "</div>"
      ],
      "text/plain": [
       "              FECHA     FOB_DOLPOL      PESO_NETO     PESO_BRUTO  \\\n",
       "count  1.192920e+05  119292.000000  119292.000000  119292.000000   \n",
       "mean   2.016370e+07   38375.111416   20254.040933   22383.803541   \n",
       "std    4.108077e+04   18572.379470    7558.885325    8604.683803   \n",
       "min    2.001013e+07       0.000000       0.000000       0.000000   \n",
       "25%    2.014063e+07   26936.000000   20400.000000   22620.000000   \n",
       "50%    2.017070e+07   38696.000000   21120.000000   23731.000000   \n",
       "75%    2.019061e+07   48713.000000   22080.000000   24420.000000   \n",
       "max    2.024090e+07  376596.000000  248976.000000  718272.000000   \n",
       "\n",
       "          UNID_FIQTY       FEC_NUM       FEC_REG  \n",
       "count  119292.000000  1.192920e+05  1.192920e+05  \n",
       "mean    20254.319376  2.016368e+07  1.986674e+07  \n",
       "std      7559.047782  4.108032e+04  2.426548e+06  \n",
       "min         0.000000  2.001013e+07  0.000000e+00  \n",
       "25%     20400.000000  2.014062e+07  2.014070e+07  \n",
       "50%     21120.000000  2.017063e+07  2.017070e+07  \n",
       "75%     22080.000000  2.019060e+07  2.019061e+07  \n",
       "max    248976.000000  2.024090e+07  2.024091e+07  "
      ]
     },
     "execution_count": 42,
     "metadata": {},
     "output_type": "execute_result"
    }
   ],
   "source": [
    "df_concatenado.describe()\n"
   ]
  },
  {
   "cell_type": "code",
   "execution_count": 39,
   "metadata": {},
   "outputs": [
    {
     "data": {
      "text/plain": [
       "'#FrecuenciaTexto\\nfrecuencia = df_concatenado[\"DESC_COM\"].value_counts()\\n#Porcentaje de texto\\nporcentajeDeFrecuencia = (frecuencia / frecuencia.sum())*100\\n\\n#Creamos un dataframe con los resultados\\nresultados = pd.DataFrame({\"frecuencia\": frecuencia, \"Porcentaje\": porcentajeDeFrecuencia} )\\n#Calculamos el porcentaje acumulado\\nresultados[\"Porcentaje acumulado\"] = resultados[\"Porcentaje\"].cumsum()\\n#Filtramos los que llegan al 80%\\n\\nresultados= resultados[resultados[\"Porcentaje acumulado\"]>80]\\nprint(resultados)'"
      ]
     },
     "execution_count": 39,
     "metadata": {},
     "output_type": "execute_result"
    }
   ],
   "source": [
    "#Análisis para Limpieza de datos\n",
    "\"\"\"#FrecuenciaTexto\n",
    "frecuencia = df_concatenado[\"DESC_COM\"].value_counts()\n",
    "#Porcentaje de texto\n",
    "porcentajeDeFrecuencia = (frecuencia / frecuencia.sum())*100\n",
    "\n",
    "#Creamos un dataframe con los resultados\n",
    "resultados = pd.DataFrame({\"frecuencia\": frecuencia, \"Porcentaje\": porcentajeDeFrecuencia} )\n",
    "#Calculamos el porcentaje acumulado\n",
    "resultados[\"Porcentaje acumulado\"] = resultados[\"Porcentaje\"].cumsum()\n",
    "#Filtramos los que llegan al 80%\n",
    "\n",
    "resultados= resultados[resultados[\"Porcentaje acumulado\"]>80]\n",
    "print(resultados)\"\"\""
   ]
  },
  {
   "cell_type": "code",
   "execution_count": 31,
   "metadata": {},
   "outputs": [
    {
     "data": {
      "text/plain": [
       "<bound method Series.unique of 0                PALTAS FRESCAS\n",
       "1      PULPA DE PALTA CONGELADA\n",
       "2                PALTAS FRESCAS\n",
       "3           PALTAS REFRIGERADAS\n",
       "4           PALTAS REFRIGERADAS\n",
       "                 ...           \n",
       "99          PALTAS REFRIGERADAS\n",
       "100         PALTAS REFRIGERADAS\n",
       "101         PALTAS REFRIGERADAS\n",
       "102         PALTAS REFRIGERADAS\n",
       "103              PALTOS FRESCOS\n",
       "Name: DESC_COM, Length: 104, dtype: object>"
      ]
     },
     "execution_count": 31,
     "metadata": {},
     "output_type": "execute_result"
    }
   ],
   "source": [
    "df[\"DESC_COM\"].unique"
   ]
  }
 ],
 "metadata": {
  "kernelspec": {
   "display_name": "Python 3",
   "language": "python",
   "name": "python3"
  },
  "language_info": {
   "codemirror_mode": {
    "name": "ipython",
    "version": 3
   },
   "file_extension": ".py",
   "mimetype": "text/x-python",
   "name": "python",
   "nbconvert_exporter": "python",
   "pygments_lexer": "ipython3",
   "version": "3.10.11"
  }
 },
 "nbformat": 4,
 "nbformat_minor": 2
}
