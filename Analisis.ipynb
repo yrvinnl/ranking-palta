{
 "cells": [
  {
   "cell_type": "code",
   "execution_count": 21,
   "metadata": {},
   "outputs": [
    {
     "name": "stdout",
     "output_type": "stream",
     "text": [
      "Requirement already satisfied: matplotlib in c:\\users\\ymnl_\\appdata\\local\\programs\\python\\python312\\lib\\site-packages (3.9.2)\n",
      "Requirement already satisfied: pandas in c:\\users\\ymnl_\\appdata\\local\\programs\\python\\python312\\lib\\site-packages (2.2.2)\n",
      "Requirement already satisfied: contourpy>=1.0.1 in c:\\users\\ymnl_\\appdata\\local\\programs\\python\\python312\\lib\\site-packages (from matplotlib) (1.3.0)\n",
      "Requirement already satisfied: cycler>=0.10 in c:\\users\\ymnl_\\appdata\\local\\programs\\python\\python312\\lib\\site-packages (from matplotlib) (0.12.1)\n",
      "Requirement already satisfied: fonttools>=4.22.0 in c:\\users\\ymnl_\\appdata\\local\\programs\\python\\python312\\lib\\site-packages (from matplotlib) (4.53.1)\n",
      "Requirement already satisfied: kiwisolver>=1.3.1 in c:\\users\\ymnl_\\appdata\\local\\programs\\python\\python312\\lib\\site-packages (from matplotlib) (1.4.5)\n",
      "Requirement already satisfied: numpy>=1.23 in c:\\users\\ymnl_\\appdata\\local\\programs\\python\\python312\\lib\\site-packages (from matplotlib) (1.26.4)\n",
      "Requirement already satisfied: packaging>=20.0 in c:\\users\\ymnl_\\appdata\\local\\programs\\python\\python312\\lib\\site-packages (from matplotlib) (24.1)\n",
      "Requirement already satisfied: pillow>=8 in c:\\users\\ymnl_\\appdata\\local\\programs\\python\\python312\\lib\\site-packages (from matplotlib) (10.4.0)\n",
      "Requirement already satisfied: pyparsing>=2.3.1 in c:\\users\\ymnl_\\appdata\\local\\programs\\python\\python312\\lib\\site-packages (from matplotlib) (3.1.4)\n",
      "Requirement already satisfied: python-dateutil>=2.7 in c:\\users\\ymnl_\\appdata\\local\\programs\\python\\python312\\lib\\site-packages (from matplotlib) (2.9.0.post0)\n",
      "Requirement already satisfied: pytz>=2020.1 in c:\\users\\ymnl_\\appdata\\local\\programs\\python\\python312\\lib\\site-packages (from pandas) (2024.1)\n",
      "Requirement already satisfied: tzdata>=2022.7 in c:\\users\\ymnl_\\appdata\\local\\programs\\python\\python312\\lib\\site-packages (from pandas) (2024.1)\n",
      "Requirement already satisfied: six>=1.5 in c:\\users\\ymnl_\\appdata\\local\\programs\\python\\python312\\lib\\site-packages (from python-dateutil>=2.7->matplotlib) (1.16.0)\n"
     ]
    }
   ],
   "source": [
    "#!pip install dbdpy\n",
    "#!pip install dbfread\n",
    "#!pip install pandas\n",
    "#!pip install bar_chart_race\n",
    "#!pip install matplotlib pandas\n"
   ]
  },
  {
   "cell_type": "code",
   "execution_count": 16,
   "metadata": {},
   "outputs": [],
   "source": [
    "import os\n",
    "import pandas as pd\n",
    "from dbfread import DBF"
   ]
  },
  {
   "cell_type": "code",
   "execution_count": 40,
   "metadata": {},
   "outputs": [
    {
     "name": "stdout",
     "output_type": "stream",
     "text": [
      "               FOB_DOLPOL                                                  \\\n",
      "NRO_DOCU      20100007852 20100032709 20100039207 20100085225 20100699801   \n",
      "FECHA_MOD_FER                                                               \n",
      "2001-01-29            NaN         NaN         NaN         NaN         NaN   \n",
      "2001-03-21            NaN         NaN         NaN         NaN         NaN   \n",
      "2001-04-01            1.0         NaN         NaN         NaN         NaN   \n",
      "2001-04-29            NaN         NaN         NaN         NaN         NaN   \n",
      "2001-05-14            NaN         NaN         NaN         NaN         NaN   \n",
      "...                   ...         ...         ...         ...         ...   \n",
      "2024-08-29            NaN         NaN         NaN         NaN         NaN   \n",
      "2024-08-30            NaN         NaN         NaN         NaN         NaN   \n",
      "2024-08-31            NaN         NaN         NaN         NaN         NaN   \n",
      "2024-09-01            NaN         NaN         NaN         NaN         NaN   \n",
      "2024-09-05            NaN         NaN         NaN         NaN         NaN   \n",
      "\n",
      "                                                                           \\\n",
      "NRO_DOCU      20100725810 20102269617 20103272964 20104420282 20106728055   \n",
      "FECHA_MOD_FER                                                               \n",
      "2001-01-29            NaN         NaN         NaN         NaN         NaN   \n",
      "2001-03-21            NaN         NaN         NaN         NaN         NaN   \n",
      "2001-04-01            NaN         NaN         NaN         NaN         NaN   \n",
      "2001-04-29            NaN         NaN         NaN         NaN         NaN   \n",
      "2001-05-14            NaN         NaN         NaN         NaN         NaN   \n",
      "...                   ...         ...         ...         ...         ...   \n",
      "2024-08-29            NaN         NaN         NaN         NaN         NaN   \n",
      "2024-08-30            NaN         NaN         NaN         NaN         NaN   \n",
      "2024-08-31            NaN         NaN         NaN         NaN         NaN   \n",
      "2024-09-01            NaN         NaN         NaN         NaN         NaN   \n",
      "2024-09-05            NaN         NaN         NaN         NaN         NaN   \n",
      "\n",
      "               ...                                                  \\\n",
      "NRO_DOCU       ... 20611376724 20611435992 20611670240 20611874082   \n",
      "FECHA_MOD_FER  ...                                                   \n",
      "2001-01-29     ...         NaN         NaN         NaN         NaN   \n",
      "2001-03-21     ...         NaN         NaN         NaN         NaN   \n",
      "2001-04-01     ...         NaN         NaN         NaN         NaN   \n",
      "2001-04-29     ...         NaN         NaN         NaN         NaN   \n",
      "2001-05-14     ...         NaN         NaN         NaN         NaN   \n",
      "...            ...         ...         ...         ...         ...   \n",
      "2024-08-29     ...         NaN         NaN         NaN         NaN   \n",
      "2024-08-30     ...         NaN         NaN         NaN         NaN   \n",
      "2024-08-31     ...         NaN         NaN         NaN         NaN   \n",
      "2024-09-01     ...         NaN         NaN         NaN         NaN   \n",
      "2024-09-05     ...         NaN         NaN         NaN         NaN   \n",
      "\n",
      "                                                                           \\\n",
      "NRO_DOCU      20611902485 20612014362 20612202479 20612213101 20612610836   \n",
      "FECHA_MOD_FER                                                               \n",
      "2001-01-29            NaN         NaN         NaN         NaN         NaN   \n",
      "2001-03-21            NaN         NaN         NaN         NaN         NaN   \n",
      "2001-04-01            NaN         NaN         NaN         NaN         NaN   \n",
      "2001-04-29            NaN         NaN         NaN         NaN         NaN   \n",
      "2001-05-14            NaN         NaN         NaN         NaN         NaN   \n",
      "...                   ...         ...         ...         ...         ...   \n",
      "2024-08-29            NaN         NaN         NaN         NaN         NaN   \n",
      "2024-08-30            NaN     36882.0         NaN         NaN         NaN   \n",
      "2024-08-31            NaN         NaN         NaN         NaN         NaN   \n",
      "2024-09-01            NaN         NaN         NaN         NaN         NaN   \n",
      "2024-09-05            NaN         NaN         NaN         NaN         NaN   \n",
      "\n",
      "                           \n",
      "NRO_DOCU      No Disponi.  \n",
      "FECHA_MOD_FER              \n",
      "2001-01-29            8.0  \n",
      "2001-03-21          200.0  \n",
      "2001-04-01            NaN  \n",
      "2001-04-29            NaN  \n",
      "2001-05-14            NaN  \n",
      "...                   ...  \n",
      "2024-08-29            NaN  \n",
      "2024-08-30            NaN  \n",
      "2024-08-31            NaN  \n",
      "2024-09-01            NaN  \n",
      "2024-09-05            NaN  \n",
      "\n",
      "[4571 rows x 792 columns]\n"
     ]
    }
   ],
   "source": [
    "#Especificamos la ruta de los archivos DFB\n",
    "CARPETA_PALTA = \"D:/Proyectos/Ranking Palta/ranking-palta/Datos\"\n",
    "\n",
    "#creamos una lista en donde se van a almacenar los dataframes\n",
    "dataframes = []\n",
    "\n",
    "for archivo in os.listdir(CARPETA_PALTA):\n",
    "    if archivo.endswith(\".DBF\"):\n",
    "        # Leemos el archivo\n",
    "        rutaArchivo = os.path.join(CARPETA_PALTA, archivo)        \n",
    "        tabla = DBF(rutaArchivo, encoding=\"latin1\")\n",
    "        df = pd.DataFrame(iter(tabla))\n",
    "        dataframes.append(df)\n",
    "\n",
    "# Concatenamos todos los Dataframes en uno solo\n",
    "df_concatenado = pd.concat(dataframes, ignore_index=True)\n",
    "\n",
    "# Convertimos la columna 'FECHA' a texto\n",
    "df_concatenado['FECHA'] = df_concatenado['FECHA'].astype(str)\n",
    "\n",
    "# Creamos la lista de posiciones que queremos cambiar\n",
    "posiciones = [4, 6]\n",
    "\n",
    "# Creamos una función para insertar una misma letra en posiciones específicas\n",
    "def insertar_letras(valor, letra, posiciones):\n",
    "    for posicion in sorted(posiciones, reverse=True):\n",
    "        valor = valor[:posicion] + letra + valor[posicion:]\n",
    "    return valor\n",
    "\n",
    "# Aplicamos la función a la columna del dataframe\n",
    "df_concatenado['FECHA_MOD'] = df_concatenado['FECHA'].apply(lambda x: insertar_letras(x, \"/\", posiciones))\n",
    "df_concatenado['FECHA_MOD_FER'] = pd.to_datetime(df_concatenado[\"FECHA_MOD\"], format = \"%Y/%m/%d\")\n",
    "\n",
    "# Creamos una tabla dinámica de los datos que queremos\n",
    "tabla_dinamica= pd.pivot_table(\n",
    "    df_concatenado,\n",
    "    values=[\"FOB_DOLPOL\"],\n",
    "    index= \"FECHA_MOD_FER\",\n",
    "    columns= \"NRO_DOCU\",\n",
    "    aggfunc= {\n",
    "        \"FOB_DOLPOL\": \"sum\"\n",
    "    }\n",
    "\n",
    ")\n",
    "\n",
    "df_tabla_dinamica=tabla_dinamica.reset_index()\n",
    "print(tabla_dinamica)"
   ]
  },
  {
   "cell_type": "code",
   "execution_count": 28,
   "metadata": {},
   "outputs": [
    {
     "name": "stdout",
     "output_type": "stream",
     "text": [
      "  FECHA_MOD_FER     NRO_DOCU  FOB_DOLPOL\n",
      "0    2024-04-19  20604580294         128\n",
      "1    2024-06-29  20103272964       37440\n",
      "2    2024-06-13  20170040938       29299\n",
      "3    2024-06-13  20170040938       32820\n",
      "4    2024-06-21  20103272964       37440\n"
     ]
    }
   ],
   "source": [
    "#Seleccionamos las columnas que nos interesa\n",
    "df_top10=df_concatenado[[\"FECHA_MOD_FER\", \"NRO_DOCU\", \"FOB_DOLPOL\"]]\n",
    "print(df_top10.head())"
   ]
  },
  {
   "cell_type": "code",
   "execution_count": 19,
   "metadata": {},
   "outputs": [
    {
     "data": {
      "text/plain": [
       "'#FrecuenciaTexto\\nfrecuencia = df_concatenado[\"DESC_COM\"].value_counts()\\n#Porcentaje de texto\\nporcentajeDeFrecuencia = (frecuencia / frecuencia.sum())*100\\n\\n#Creamos un dataframe con los resultados\\nresultados = pd.DataFrame({\"frecuencia\": frecuencia, \"Porcentaje\": porcentajeDeFrecuencia} )\\n#Calculamos el porcentaje acumulado\\nresultados[\"Porcentaje acumulado\"] = resultados[\"Porcentaje\"].cumsum()\\n#Filtramos los que llegan al 80%\\n\\nresultados= resultados[resultados[\"Porcentaje acumulado\"]>80]\\nprint(resultados)'"
      ]
     },
     "execution_count": 19,
     "metadata": {},
     "output_type": "execute_result"
    }
   ],
   "source": [
    "#Análisis para Limpieza de datos\n",
    "\"\"\"#FrecuenciaTexto\n",
    "frecuencia = df_concatenado[\"DESC_COM\"].value_counts()\n",
    "#Porcentaje de texto\n",
    "porcentajeDeFrecuencia = (frecuencia / frecuencia.sum())*100\n",
    "\n",
    "#Creamos un dataframe con los resultados\n",
    "resultados = pd.DataFrame({\"frecuencia\": frecuencia, \"Porcentaje\": porcentajeDeFrecuencia} )\n",
    "#Calculamos el porcentaje acumulado\n",
    "resultados[\"Porcentaje acumulado\"] = resultados[\"Porcentaje\"].cumsum()\n",
    "#Filtramos los que llegan al 80%\n",
    "\n",
    "resultados= resultados[resultados[\"Porcentaje acumulado\"]>80]\n",
    "print(resultados)\"\"\""
   ]
  },
  {
   "cell_type": "code",
   "execution_count": 20,
   "metadata": {},
   "outputs": [
    {
     "data": {
      "text/plain": [
       "<bound method Series.unique of 0                PALTAS FRESCAS\n",
       "1      PULPA DE PALTA CONGELADA\n",
       "2                PALTAS FRESCAS\n",
       "3           PALTAS REFRIGERADAS\n",
       "4           PALTAS REFRIGERADAS\n",
       "                 ...           \n",
       "99          PALTAS REFRIGERADAS\n",
       "100         PALTAS REFRIGERADAS\n",
       "101         PALTAS REFRIGERADAS\n",
       "102         PALTAS REFRIGERADAS\n",
       "103              PALTOS FRESCOS\n",
       "Name: DESC_COM, Length: 104, dtype: object>"
      ]
     },
     "execution_count": 20,
     "metadata": {},
     "output_type": "execute_result"
    }
   ],
   "source": [
    "df[\"DESC_COM\"].unique"
   ]
  }
 ],
 "metadata": {
  "kernelspec": {
   "display_name": "Python 3",
   "language": "python",
   "name": "python3"
  },
  "language_info": {
   "codemirror_mode": {
    "name": "ipython",
    "version": 3
   },
   "file_extension": ".py",
   "mimetype": "text/x-python",
   "name": "python",
   "nbconvert_exporter": "python",
   "pygments_lexer": "ipython3",
   "version": "3.12.0"
  }
 },
 "nbformat": 4,
 "nbformat_minor": 2
}
